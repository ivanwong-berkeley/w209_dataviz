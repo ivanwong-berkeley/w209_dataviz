{
 "cells": [
  {
   "cell_type": "code",
   "execution_count": null,
   "metadata": {},
   "outputs": [],
   "source": [
    "import sqlite3\n",
    "import csv\n",
    "import os\n",
    "import glob"
   ]
  },
  {
   "cell_type": "code",
   "execution_count": null,
   "metadata": {},
   "outputs": [],
   "source": [
    "path = 'input_files'\n",
    "upPath = \"..\"\n",
    "extension = 'csv'\n",
    "os.chdir(path)\n",
    "csvFiles = glob.glob('**/*.{}'.format(extension), recursive=True)\n",
    "for f in csvFiles:\n",
    "    print(f)\n",
    "os.chdir(upPath)"
   ]
  },
  {
   "cell_type": "code",
   "execution_count": null,
   "metadata": {},
   "outputs": [],
   "source": [
    "# Open SQLite3 database connection and create table\n",
    "conn = sqlite3.connect('products.db')\n",
    "c = conn.cursor()\n",
    "\n",
    "# Dropping users table if already exists\n",
    "c.execute(\"DROP TABLE IF EXISTS product\")\n",
    "print(\"Table dropped... \")\n",
    "\n",
    "#Commit changes in the database\n",
    "conn.commit()\n",
    "\n",
    "# Create products table if not already exists\n",
    "c.execute(\"CREATE TABLE IF NOT EXISTS product(ASIN TEXT, Product_Name TEXT,Brand TEXT,Category TEXT,Est_Monthly_Revenue TEXT,Est_Monthly_Sales TEXT,Price TEXT,Fees TEXT,Net TEXT,Rank INTEGER,Reviews INTEGER,LQS INTEGER,Sellers INTEGER,Date_First_Available TEXT,Buy_Box_Owner TEXT,Rating REAL,Dimensions TEXT,Product_Tier TEXT,Weight TEXT,tag TEXT)\")\n",
    "\n",
    "totalRecordCount = badRecordCount = 0\n",
    "for csvFile in csvFiles:\n",
    "    # print(csvFile)\n",
    "    l = csvFile.split('/')\n",
    "    if len(l) == 1:\n",
    "        tag = '.'\n",
    "        fileName = \"input_files/\" + l[0]\n",
    "    else:\n",
    "        tag = l[0]\n",
    "        fileName = \"input_files/\" + tag + '/' + l[1]\n",
    "        \n",
    "    print (fileName)\n",
    "\n",
    "    file = open(fileName)\n",
    "    csv_reader = csv.reader(file)\n",
    "\n",
    "    # skip 3 rows\n",
    "    next(csv_reader)\n",
    "    next(csv_reader)\n",
    "    next(csv_reader)\n",
    "    recordCount = 0\n",
    "    \n",
    "    for row in csv_reader:\n",
    "        try:\n",
    "            # print (\"inserting row: \", row[0])\n",
    "            c.execute(\"insert into product values (?, ?, ?, ?, ?, ?, ?, ?, ?, ?, ?, ?, ?, ?, ?, ?, ?, ?, ?, ?)\",\n",
    "            [ row[0], row[1] , row[2], row[3], row[4], row[5], row[6], row[7], row[8], row[9],\n",
    "              row[10], row[11], row[12], row[13], row[14], row[15], row[16], row[17], row[18], tag\n",
    "            ])\n",
    "            recordCount += 1\n",
    "        except:\n",
    "            print(\"Bad row\")\n",
    "            print(row)\n",
    "            badRecordCount += 1\n",
    "    lastASIN = row[0]\n",
    "    conn.commit()\n",
    "    print (\"Number of Records insert to database: \", recordCount)\n",
    "    print (\"last ASIN: \", lastASIN)\n",
    "    totalRecordCount = totalRecordCount + recordCount\n",
    "          \n",
    "conn.close()\n",
    "print (\"Total Number of Records insert to database: \", totalRecordCount)\n",
    "print (\"Total bad records: \", badRecordCount)"
   ]
  },
  {
   "cell_type": "code",
   "execution_count": null,
   "metadata": {},
   "outputs": [],
   "source": []
  },
  {
   "cell_type": "code",
   "execution_count": null,
   "metadata": {},
   "outputs": [],
   "source": []
  }
 ],
 "metadata": {
  "environment": {
   "name": "tf2-gpu.2-1.m47",
   "type": "gcloud",
   "uri": "gcr.io/deeplearning-platform-release/tf2-gpu.2-1:m47"
  },
  "kernelspec": {
   "display_name": "Python 3",
   "language": "python",
   "name": "python3"
  },
  "language_info": {
   "codemirror_mode": {
    "name": "ipython",
    "version": 3
   },
   "file_extension": ".py",
   "mimetype": "text/x-python",
   "name": "python",
   "nbconvert_exporter": "python",
   "pygments_lexer": "ipython3",
   "version": "3.7.10"
  }
 },
 "nbformat": 4,
 "nbformat_minor": 4
}
