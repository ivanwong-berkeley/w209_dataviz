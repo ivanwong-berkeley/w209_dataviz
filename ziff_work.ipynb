{
 "cells": [
  {
   "cell_type": "code",
   "execution_count": 33,
   "id": "elder-complaint",
   "metadata": {},
   "outputs": [
    {
     "name": "stdout",
     "output_type": "stream",
     "text": [
      "reloading web.utils.utils\n"
     ]
    }
   ],
   "source": [
    "# to facilitate live changes when running the web app and jupyter simultaneously:\n",
    "import sys\n",
    "import importlib\n",
    "if 'web.utils.utils' in sys.modules:\n",
    "    print(\"reloading web.utils.utils\")\n",
    "    importlib.reload(utils)\n",
    "else:\n",
    "    from web.utils import utils"
   ]
  },
  {
   "cell_type": "code",
   "execution_count": 34,
   "id": "saving-steps",
   "metadata": {},
   "outputs": [],
   "source": [
    "df = utils.load_data()\n",
    "df = utils.clean_data(df)"
   ]
  },
  {
   "cell_type": "code",
   "execution_count": 35,
   "id": "illegal-sweden",
   "metadata": {},
   "outputs": [
    {
     "data": {
      "text/plain": [
       "DataTransformerRegistry.enable('default')"
      ]
     },
     "execution_count": 35,
     "metadata": {},
     "output_type": "execute_result"
    }
   ],
   "source": [
    "import altair as alt\n",
    "alt.data_transformers.disable_max_rows()"
   ]
  },
  {
   "cell_type": "code",
   "execution_count": 36,
   "id": "brutal-bernard",
   "metadata": {},
   "outputs": [
    {
     "name": "stdout",
     "output_type": "stream",
     "text": [
      "The sql extension is already loaded. To reload it, use:\n",
      "  %reload_ext sql\n"
     ]
    }
   ],
   "source": [
    "%load_ext sql"
   ]
  },
  {
   "cell_type": "code",
   "execution_count": 37,
   "id": "artistic-shadow",
   "metadata": {},
   "outputs": [],
   "source": [
    "%sql sqlite:///products.db"
   ]
  },
  {
   "cell_type": "code",
   "execution_count": 38,
   "id": "thick-unemployment",
   "metadata": {},
   "outputs": [
    {
     "name": "stdout",
     "output_type": "stream",
     "text": [
      "   sqlite://\n",
      "   sqlite:///product.db\n",
      " * sqlite:///products.db\n",
      "Done.\n"
     ]
    },
    {
     "data": {
      "text/html": [
       "<table>\n",
       "    <tr>\n",
       "        <th>tag</th>\n",
       "        <th>count(*)</th>\n",
       "    </tr>\n",
       "    <tr>\n",
       "        <td>20200306</td>\n",
       "        <td>5192</td>\n",
       "    </tr>\n",
       "    <tr>\n",
       "        <td>20200312</td>\n",
       "        <td>5090</td>\n",
       "    </tr>\n",
       "</table>"
      ],
      "text/plain": [
       "[('20200306', 5192), ('20200312', 5090)]"
      ]
     },
     "execution_count": 38,
     "metadata": {},
     "output_type": "execute_result"
    }
   ],
   "source": [
    "%sql select tag, count(*) from product group by tag"
   ]
  },
  {
   "cell_type": "code",
   "execution_count": 40,
   "id": "concerned-synthetic",
   "metadata": {},
   "outputs": [],
   "source": [
    "df = utils.load_data()"
   ]
  },
  {
   "cell_type": "code",
   "execution_count": 41,
   "id": "authorized-average",
   "metadata": {},
   "outputs": [
    {
     "data": {
      "text/plain": [
       "(10282, 20)"
      ]
     },
     "execution_count": 41,
     "metadata": {},
     "output_type": "execute_result"
    }
   ],
   "source": [
    "df.shape"
   ]
  },
  {
   "cell_type": "code",
   "execution_count": 43,
   "id": "strong-programming",
   "metadata": {},
   "outputs": [],
   "source": [
    "df = df[df['tag'] == '20200306']\n"
   ]
  },
  {
   "cell_type": "code",
   "execution_count": 44,
   "id": "sharp-record",
   "metadata": {},
   "outputs": [
    {
     "data": {
      "text/plain": [
       "(5192, 20)"
      ]
     },
     "execution_count": 44,
     "metadata": {},
     "output_type": "execute_result"
    }
   ],
   "source": [
    "df.shape"
   ]
  },
  {
   "cell_type": "code",
   "execution_count": 46,
   "id": "public-wilderness",
   "metadata": {},
   "outputs": [],
   "source": [
    "df = utils.clean_data(df)"
   ]
  },
  {
   "cell_type": "code",
   "execution_count": 48,
   "id": "silent-heater",
   "metadata": {},
   "outputs": [],
   "source": [
    "df = df[df['Reviews'] <= 50]"
   ]
  },
  {
   "cell_type": "code",
   "execution_count": 49,
   "id": "tired-duration",
   "metadata": {},
   "outputs": [
    {
     "data": {
      "text/plain": [
       "(5133, 20)"
      ]
     },
     "execution_count": 49,
     "metadata": {},
     "output_type": "execute_result"
    }
   ],
   "source": [
    "df.shape"
   ]
  },
  {
   "cell_type": "code",
   "execution_count": 51,
   "id": "junior-channels",
   "metadata": {},
   "outputs": [],
   "source": [
    "l = df.to_dict('records')"
   ]
  },
  {
   "cell_type": "code",
   "execution_count": 52,
   "id": "dried-hungary",
   "metadata": {},
   "outputs": [
    {
     "data": {
      "text/plain": [
       "{'ASIN': 'B08PFXGK7P',\n",
       " 'Product_Name': 'Laynos Leather Seat Back Organizer Purse Holder Handbag Storage Barrier of Backseat Pet Kids Black-Flower',\n",
       " 'Brand': 'Laynos',\n",
       " 'Category': 'Automotive',\n",
       " 'Est_Monthly_Revenue': 7257.6,\n",
       " 'Est_Monthly_Sales': 270.0,\n",
       " 'Price': 26.88,\n",
       " 'Fees': 10.98,\n",
       " 'Net': 15.9,\n",
       " 'Rank': 11533.0,\n",
       " 'Reviews': 3.0,\n",
       " 'LQS': 6,\n",
       " 'Sellers': 1,\n",
       " 'Date_First_Available': '12/01/2020',\n",
       " 'Buy_Box_Owner': 'Laynos',\n",
       " 'Rating': 5.0,\n",
       " 'Dimensions': '15.35 x 0.79\" x 7.87\"\"',\n",
       " 'Product_Tier': 'Standard (Large)',\n",
       " 'Weight': '0.6614 lbs',\n",
       " 'tag': '20200306'}"
      ]
     },
     "execution_count": 52,
     "metadata": {},
     "output_type": "execute_result"
    }
   ],
   "source": [
    "numeric_fields = ['Est_Monthly_Revenue', 'Est_Monthly_Sales', 'Price', 'Fees', 'Net', 'Rank', 'Reviews', ]"
   ]
  },
  {
   "cell_type": "code",
   "execution_count": null,
   "id": "colonial-estate",
   "metadata": {},
   "outputs": [],
   "source": []
  }
 ],
 "metadata": {
  "kernelspec": {
   "display_name": "Python 3",
   "language": "python",
   "name": "python3"
  },
  "language_info": {
   "codemirror_mode": {
    "name": "ipython",
    "version": 3
   },
   "file_extension": ".py",
   "mimetype": "text/x-python",
   "name": "python",
   "nbconvert_exporter": "python",
   "pygments_lexer": "ipython3",
   "version": "3.7.10"
  }
 },
 "nbformat": 4,
 "nbformat_minor": 5
}
