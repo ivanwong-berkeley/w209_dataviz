{
 "cells": [
  {
   "cell_type": "code",
   "execution_count": null,
   "id": "instrumental-local",
   "metadata": {},
   "outputs": [],
   "source": [
    "# for development\n",
    "import importlib\n",
    "import sys\n",
    "if 'web.utils.utils' in sys.modules:\n",
    "    print(\"reloading web.utils.utils\")\n",
    "    importlib.reload(utils)\n",
    "else:\n",
    "    from web.utils import utils"
   ]
  },
  {
   "cell_type": "code",
   "execution_count": null,
   "id": "stone-specific",
   "metadata": {
    "tags": []
   },
   "outputs": [],
   "source": [
    "df = utils.load_data()"
   ]
  },
  {
   "cell_type": "code",
   "execution_count": null,
   "id": "genuine-generation",
   "metadata": {},
   "outputs": [],
   "source": [
    "df = utils.clean_data(df)"
   ]
  },
  {
   "cell_type": "code",
   "execution_count": null,
   "id": "serial-membership",
   "metadata": {},
   "outputs": [],
   "source": [
    "import altair as alt\n",
    "alt.data_transformers.disable_max_rows()\n"
   ]
  },
  {
   "cell_type": "markdown",
   "id": "descending-honduras",
   "metadata": {},
   "source": [
    "## Rubric\n",
    "_In this assignment you will be using your final project dataset and exploring it with your tool of choice from the course (d3/vegalite/altair/Tableau). Begin by inspecting the available data without visualizing the data, and write down three hypotheses. Next, investigate each of your hypotheses by visualizing relevant variables (including derived variables, if that helps) in multiple ways. Look for correlations, clusters, outliers, or any other patterns. See if you can find evidence for or against each hypothesis. As you explore, retain multiple sheets in your workbook that show the development of your analysis. Try to find something unexpected in the data. For only one of the hypotheses, describe your exploration process, noting changes and refinements you made to the visualizations as you went along, as well as what worked or didn’t work during your exploration process. We expect to see at least three steps in this refinement process. For the remaining two hypotheses, list each hypothesis and conclusion, provide the beginning and final visualization._\n"
   ]
  },
  {
   "cell_type": "markdown",
   "id": "respected-acquisition",
   "metadata": {},
   "source": [
    "## User Profile and Background\n",
    "\n",
    "We are looking at the \"FBA\" - Fulfilled by Amazon - product selling model. An individidual or small company finds manufacturers (probably in China) from whom to buy existing products, has them shipped to Amazon warehouses, prepares product pages as an Amazon Seller, but pays Amazon to do all aspects of fulfillment. JungleScout is a data and services seller to the market of these Amazon FBA sellers and would-be sellers. Our data is drawn from their database.\n",
    "\n",
    "Our hypothetical user is someone who is inexperienced as an Amazon Seller, and is looking for existing products that are good opportunities. Such a user has read pages like this one https://www.junglescout.com/find-products-to-sell/, which give guidance like this:\n",
    "\n",
    "Characteristics of a Good Product\n",
    "1. Retail price between 25 – 50 USD\n",
    "2. Low seasonality.\n",
    "3. Less than 200 reviews for the top sellers (less than 100 is excellent!)\n",
    "4. Small (fits in a shoebox) and Lightweight\n",
    "5. Can be improved.\n",
    "6. Simple to manufacture.\n",
    "\n"
   ]
  },
  {
   "cell_type": "markdown",
   "id": "direct-baseline",
   "metadata": {},
   "source": [
    "## Database\n",
    "\n",
    "The database I used was constructed by synthesizing some advice given by JungleScout (JS) as to what makes a good product choice. The following query yielded slightly over 5k results, which I downloaded by hand in pages of 100 (took about 15 minutes).\n",
    "* Price: between 20 and 100 USD\n",
    "* Minimum Net Profit estimate: 15 USD\n",
    "* Minimum monthly estimated sales: 200\n",
    "* Maximum reviews: 50\n",
    "* Maximum \"Listing Quality Score\" (LQS): 6 (Scale is 1-10)\n",
    "* Exclude difficult categories: Electronics, Food\n",
    "* Exclude \"Top Brands\"\n",
    "* Include only items that JS marked as Fulfilled-by-Amazon (FBA)\n",
    "\n",
    "In addition, I chose to eliminate \"Clothing\" because it accounted for about 1/2 the total listings, and I wanted to keep the size of my dataset manageable.\n",
    "\n",
    "The data returned from JS has the following schema.\n"
   ]
  },
  {
   "cell_type": "code",
   "execution_count": null,
   "id": "given-baseline",
   "metadata": {},
   "outputs": [],
   "source": [
    "df.dtypes"
   ]
  },
  {
   "cell_type": "markdown",
   "id": "compact-river",
   "metadata": {},
   "source": [
    "### Additional Data Cleaning\n",
    "\n"
   ]
  },
  {
   "cell_type": "markdown",
   "id": "enormous-dubai",
   "metadata": {},
   "source": [
    "Data problem: some records have review counts that are ridiculously high. This is especially worrisome because I requested only products that had 50 or fewer reviews. More on that later.\n"
   ]
  },
  {
   "cell_type": "code",
   "execution_count": null,
   "id": "particular-christmas",
   "metadata": {},
   "outputs": [],
   "source": [
    "alt.Chart(df[df['Reviews'] > 50]).mark_bar().encode(\n",
    "    x=alt.X('Reviews:Q', bin=alt.Bin(maxbins=100)),\n",
    "    y='count(*):Q',\n",
    "    tooltip=['count(*):Q', 'Reviews']\n",
    ").properties(width=1200, height=400)"
   ]
  },
  {
   "cell_type": "markdown",
   "id": "enormous-favor",
   "metadata": {},
   "source": [
    "For now, I've decided to kick them out"
   ]
  },
  {
   "cell_type": "code",
   "execution_count": null,
   "id": "allied-mistress",
   "metadata": {},
   "outputs": [],
   "source": [
    "questionable_review_records = df[df['Reviews'] > 50]\n",
    "questionable_review_records.shape"
   ]
  },
  {
   "cell_type": "code",
   "execution_count": null,
   "id": "amateur-carolina",
   "metadata": {},
   "outputs": [],
   "source": [
    "df = df[df['Reviews'] <= 50]"
   ]
  },
  {
   "cell_type": "markdown",
   "id": "particular-fraction",
   "metadata": {},
   "source": [
    "There's also a data problem with ridiculously high estimated monthly sales. "
   ]
  },
  {
   "cell_type": "code",
   "execution_count": null,
   "id": "italic-reply",
   "metadata": {},
   "outputs": [],
   "source": [
    "alt.Chart(df).mark_bar().encode(\n",
    "    x=alt.X('Est_Monthly_Sales:Q', bin=alt.Bin(maxbins=100)),\n",
    "    y='count(*):Q',\n",
    "    tooltip=['count(*):Q', 'Est_Monthly_Sales']\n",
    ").properties(width=1200, height=400)"
   ]
  },
  {
   "cell_type": "markdown",
   "id": "ethical-skiing",
   "metadata": {},
   "source": [
    "For now, let's just drop them. We should do more research into this."
   ]
  },
  {
   "cell_type": "code",
   "execution_count": null,
   "id": "joined-reaction",
   "metadata": {},
   "outputs": [],
   "source": [
    "df = df[df['Est_Monthly_Sales'] <= 40000]"
   ]
  },
  {
   "cell_type": "markdown",
   "id": "excess-football",
   "metadata": {},
   "source": [
    "## Hypotheses\n",
    "\n",
    "My initial general hypothesis is that there are very few if any really good products to choose from, because this sounds to me like a \"get-rich-quick\" scam that's too good to be true. If there were easy opportunities, someone would have already taken them.\n",
    "\n",
    "Specifically:\n",
    "\n",
    "1. Products that have high monetary potential (Net or Estimated Monthly Revenue or some conbination) also have high competition (Reviews, Sellers).\n",
    "2. JungleScout's proprietary \"Listing Quality Score\" (LQS) is intended to capture the quality of the product marketing. If I feel that I'm a good marketer, then products with low LQS are an opportunity for me. Hypothesis: products with low LQS also have low monetary potential -- they're just crap products anyway, so marketing is just lipstick on a pig.\n",
    "3. I expect some correlations:\n",
    "* sellers and reviews\n",
    "* Est_Monthly_Sales and Est_Monthly_Revenue\n",
    "* LQS and reviews"
   ]
  },
  {
   "cell_type": "markdown",
   "id": "addressed-sending",
   "metadata": {},
   "source": [
    "Let's look at correlations first."
   ]
  },
  {
   "cell_type": "markdown",
   "id": "sharp-beverage",
   "metadata": {},
   "source": [
    "Est_Monthly_Sales and Est_Monthly_Revenue seem correlated"
   ]
  },
  {
   "cell_type": "code",
   "execution_count": null,
   "id": "silent-anthropology",
   "metadata": {},
   "outputs": [],
   "source": [
    "alt.Chart(df).mark_circle().encode(\n",
    "    x='Est_Monthly_Sales:Q',\n",
    "    y='Est_Monthly_Revenue:Q',\n",
    "    tooltip=['Sellers', 'LQS', 'Reviews', 'Rank', 'Fees', 'Net', 'Est_Monthly_Sales','Est_Monthly_Revenue', 'Category', 'Product_Name']\n",
    ").properties(width=800, height=400)"
   ]
  },
  {
   "cell_type": "markdown",
   "id": "wireless-stewart",
   "metadata": {},
   "source": [
    "Sellers and Reviews do not seem correlated, at least not at first glance:"
   ]
  },
  {
   "cell_type": "code",
   "execution_count": null,
   "id": "improving-occasion",
   "metadata": {},
   "outputs": [],
   "source": [
    "alt.Chart(df).mark_circle().encode(\n",
    "    y='Sellers:Q',\n",
    "    x='Reviews:Q',\n",
    "    tooltip=['Sellers', 'LQS', 'Reviews', 'Rank', 'Fees', 'Net', 'Est_Monthly_Sales','Est_Monthly_Revenue', 'Category', 'Product_Name']\n",
    ").properties(width=800, height=400)"
   ]
  },
  {
   "cell_type": "markdown",
   "id": "subject-landing",
   "metadata": {},
   "source": [
    "JS tells us that review count is an indicator of competition among sellers. But then, what does the \"sellers\" field mean? Perhaps it is cpomputed differently and reviews are a better indication of competitiveness than sellers?"
   ]
  },
  {
   "cell_type": "code",
   "execution_count": null,
   "id": "unnecessary-butler",
   "metadata": {},
   "outputs": [],
   "source": [
    "alt.Chart(df).mark_circle().encode(\n",
    "    x='Net:Q',\n",
    "    y='Reviews:Q',\n",
    "    tooltip=['Sellers', 'LQS', 'Reviews', 'Rank', 'Fees', 'Net', 'Est_Monthly_Sales','Est_Monthly_Revenue', 'Category', 'Product_Name']\n",
    ").properties(width=800, height=1200)"
   ]
  },
  {
   "cell_type": "markdown",
   "id": "connected-questionnaire",
   "metadata": {},
   "source": [
    "The above graphic seems to indicate that, if we assume that \"Net\" is a proxy for potential profit and \"Reviews\" is a proxy for competitiveness, then my initial hypothesis does not seem to be true. It seems that there are profitable products at every level of competitiveness.\n",
    "\n",
    "Side note: sliders would be good for # of reviews, since that's just between 0 and 50"
   ]
  },
  {
   "cell_type": "markdown",
   "id": "developmental-bangladesh",
   "metadata": {},
   "source": [
    "Let's look at Estimated Monthly Sales against Reviews:"
   ]
  },
  {
   "cell_type": "code",
   "execution_count": null,
   "id": "organic-chile",
   "metadata": {},
   "outputs": [],
   "source": [
    "alt.Chart(df).mark_circle().encode(\n",
    "    x='Est_Monthly_Sales:Q',\n",
    "    y='Reviews:Q',\n",
    "    tooltip=['Sellers', 'LQS', 'Reviews', 'Rank', 'Fees', 'Net', 'Est_Monthly_Sales','Est_Monthly_Revenue', 'Category', 'Product_Name']\n",
    ").properties(width=800, height=1200)"
   ]
  },
  {
   "cell_type": "markdown",
   "id": "significant-recall",
   "metadata": {},
   "source": [
    "Again, my initial assumption seems incorrect, since there are high-grossing products at every level of reviews."
   ]
  },
  {
   "cell_type": "markdown",
   "id": "specialized-bulgarian",
   "metadata": {},
   "source": [
    "Let's turn to my other hypothesis, with respect to JS's \"LQS\" score. This is a proprietary value that advertise as a measure of marketing quality."
   ]
  },
  {
   "cell_type": "code",
   "execution_count": null,
   "id": "variable-colorado",
   "metadata": {},
   "outputs": [],
   "source": [
    "alt.Chart(df).mark_circle().encode(\n",
    "    x='Net:Q',\n",
    "    y='LQS:Q',\n",
    "    tooltip=['Sellers', 'LQS', 'Reviews', 'Rank', 'Fees', 'Net', 'Est_Monthly_Sales','Est_Monthly_Revenue', 'Category', 'Product_Name']\n",
    ").properties(width=800, height=400)"
   ]
  },
  {
   "cell_type": "markdown",
   "id": "champion-hampton",
   "metadata": {},
   "source": [
    "Again, my hypothesis seems incorrect: there are plenty of products at every level of profitability and at each level of LQS. So perhaps there is room to out-market other sellers."
   ]
  },
  {
   "cell_type": "markdown",
   "id": "featured-anchor",
   "metadata": {},
   "source": [
    "But I should have noticed: I thought I asked for LQS only below 6? Why am I getting so many products with higher LQS?"
   ]
  },
  {
   "cell_type": "code",
   "execution_count": null,
   "id": "realistic-retrieval",
   "metadata": {},
   "outputs": [],
   "source": [
    "alt.Chart(df).mark_bar().encode(\n",
    "    x=alt.X('LQS:Q', bin=alt.Bin(maxbins=10)),\n",
    "    y='count(*):Q',\n",
    "    tooltip=['count(*):Q', 'LQS']\n",
    ")"
   ]
  },
  {
   "cell_type": "markdown",
   "id": "sublime-major",
   "metadata": {},
   "source": [
    "Let's try a different view of LQS and Net, a boxplot:"
   ]
  },
  {
   "cell_type": "code",
   "execution_count": null,
   "id": "surface-bandwidth",
   "metadata": {},
   "outputs": [],
   "source": [
    "alt.Chart(df).mark_boxplot().encode(\n",
    "    x = 'LQS:Q',\n",
    "    y = 'Net:Q'\n",
    ")\n"
   ]
  },
  {
   "cell_type": "markdown",
   "id": "rolled-pendant",
   "metadata": {},
   "source": [
    "The above seems more convincing of the observation that there are \"good\" product at all level of LQS. Box plots are probably helpful for other views as well."
   ]
  },
  {
   "cell_type": "markdown",
   "id": "raising-parts",
   "metadata": {},
   "source": [
    "The following two are less successful, but they explore the limits."
   ]
  },
  {
   "cell_type": "code",
   "execution_count": null,
   "id": "medium-discipline",
   "metadata": {},
   "outputs": [],
   "source": [
    "alt.Chart(df).mark_boxplot().encode(\n",
    "    x = 'LQS:Q',\n",
    "    y = 'Est_Monthly_Revenue:Q'\n",
    ")\n"
   ]
  },
  {
   "cell_type": "code",
   "execution_count": null,
   "id": "palestinian-munich",
   "metadata": {},
   "outputs": [],
   "source": [
    "alt.Chart(df).mark_boxplot().encode(\n",
    "    x = 'Reviews:Q',\n",
    "    y = 'Net:Q'\n",
    ").properties(width=1200, height=400)\n"
   ]
  },
  {
   "cell_type": "markdown",
   "id": "according-exhibit",
   "metadata": {},
   "source": [
    "Here are some histograms that might also be interesting for a user."
   ]
  },
  {
   "cell_type": "code",
   "execution_count": null,
   "id": "competent-recorder",
   "metadata": {},
   "outputs": [],
   "source": [
    "alt.Chart(df).mark_bar().encode(\n",
    "    x=alt.X('Reviews:Q', bin=alt.Bin(maxbins=50)),\n",
    "    y='count(*):Q',\n",
    "    tooltip=['count(*):Q', 'Reviews']\n",
    ")"
   ]
  },
  {
   "cell_type": "markdown",
   "id": "functioning-heading",
   "metadata": {},
   "source": [
    "This viz is intended to explore the relation between Net and Monthly Revenue. It surprises me that they do not correlate much. This raises the question, what does \"Net\" really mean? We know we need several grains of salt because it does _not_ include the purchase price. So what is it? We need to think a bit more."
   ]
  },
  {
   "cell_type": "code",
   "execution_count": null,
   "id": "missing-criterion",
   "metadata": {},
   "outputs": [],
   "source": [
    "alt.Chart(df).mark_circle().encode(\n",
    "    x='Net:Q',\n",
    "    y='Est_Monthly_Revenue:Q',\n",
    "    tooltip=['Sellers', 'LQS', 'Reviews', 'Rank', 'Fees', 'Net', 'Est_Monthly_Sales','Est_Monthly_Revenue', 'Category', 'Product_Name']\n",
    ").properties(width=800, height=400)"
   ]
  },
  {
   "cell_type": "markdown",
   "id": "split-context",
   "metadata": {},
   "source": [
    "## Takeaways\n",
    "\n",
    "* It would be nice to have an interactive scatterplot that allows the user to choose the which dimension to place on each axis -- and perhaps another one for color. I think tableau is good at that. Can this be done with Altair?\n",
    "* There are more problems with the data than I expected. We need to do more exploration and thinking about data quality.\n",
    "\n",
    "My initial hypotheses were mostly incorrect - if I can trust the data quality. This makes me think that we should do our final project as\n",
    "* Who: naive JS user\n",
    "* What: the results of a search on JS (the db I used is only one example)\n",
    "* Why: discover products that fit these interesting niches: high profitability/low competition, high profitability/poor marketing, etc.\n",
    "\n",
    "The existing JS interface returns just a list, which you can sort. We should think of ourselves as designing and prototyping a better results page."
   ]
  },
  {
   "cell_type": "code",
   "execution_count": null,
   "id": "laden-athletics",
   "metadata": {},
   "outputs": [],
   "source": []
  }
 ],
 "metadata": {
  "kernelspec": {
   "display_name": "Python 3",
   "language": "python",
   "name": "python3"
  },
  "language_info": {
   "codemirror_mode": {
    "name": "ipython",
    "version": 3
   },
   "file_extension": ".py",
   "mimetype": "text/x-python",
   "name": "python",
   "nbconvert_exporter": "python",
   "pygments_lexer": "ipython3",
   "version": "3.7.10"
  }
 },
 "nbformat": 4,
 "nbformat_minor": 5
}
